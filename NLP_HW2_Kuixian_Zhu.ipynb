{
 "cells": [
  {
   "cell_type": "code",
   "execution_count": 22,
   "metadata": {
    "collapsed": true
   },
   "outputs": [],
   "source": [
    "# First lets improve libraries that we are going to be used in this lab session\n",
    "import numpy as np\n",
    "import torch\n",
    "import torch.nn as nn\n",
    "import torch.nn.functional as F\n",
    "from torch.utils.data import Dataset\n",
    "from collections import Counter\n",
    "import pickle as pkl\n",
    "import random\n",
    "import pdb\n",
    "random.seed(134)\n",
    "\n",
    "PAD_IDX = 0\n",
    "UNK_IDX = 1\n",
    "BATCH_SIZE = 32"
   ]
  },
  {
   "cell_type": "markdown",
   "metadata": {},
   "source": [
    "## Load Data"
   ]
  },
  {
   "cell_type": "code",
   "execution_count": 23,
   "metadata": {
    "collapsed": true
   },
   "outputs": [],
   "source": [
    "import pandas as pd"
   ]
  },
  {
   "cell_type": "code",
   "execution_count": 24,
   "metadata": {
    "collapsed": true
   },
   "outputs": [],
   "source": [
    "snli_train = pd.read_csv('snli_train.tsv', sep='\\t', header=0)\n",
    "snli_val = pd.read_csv('snli_val.tsv', sep='\\t', header=0)"
   ]
  },
  {
   "cell_type": "code",
   "execution_count": 25,
   "metadata": {},
   "outputs": [
    {
     "name": "stdout",
     "output_type": "stream",
     "text": [
      "A young girl in a pink shirt sitting on a dock viewing a body of water .\n",
      "100000\n",
      "1000\n"
     ]
    }
   ],
   "source": [
    "print(snli_train.loc[0]['sentence1'])\n",
    "print(len(snli_train))\n",
    "print(len(snli_val))"
   ]
  },
  {
   "cell_type": "code",
   "execution_count": 26,
   "metadata": {},
   "outputs": [
    {
     "name": "stdout",
     "output_type": "stream",
     "text": [
      "sentence1    A young girl in a pink shirt sitting on a dock...\n",
      "sentence2    A young girl watching the sunset over the water .\n",
      "label                                                  neutral\n",
      "Name: 0, dtype: object\n",
      "sentence1    A woman is smiling while the man next to her i...\n",
      "sentence2                  Two people are next to each other .\n",
      "label                                               entailment\n",
      "Name: 1, dtype: object\n",
      "sentence1    Across the river , you can see a large building .\n",
      "sentence2    The large building is full of apartments and t...\n",
      "label                                                  neutral\n",
      "Name: 2, dtype: object\n",
      "sentence1    a man in white shorts and a black shirt is par...\n",
      "sentence2              A man is riding a jetski on the ocean .\n",
      "label                                            contradiction\n",
      "Name: 3, dtype: object\n",
      "sentence1    Four black dogs run together on bright green g...\n",
      "sentence2    Four dogs are preparing to be launched into sp...\n",
      "label                                            contradiction\n",
      "Name: 4, dtype: object\n"
     ]
    }
   ],
   "source": [
    "print(snli_train.loc[0])\n",
    "print(snli_train.loc[1])\n",
    "print(snli_train.loc[2])\n",
    "print(snli_train.loc[3])\n",
    "print(snli_train.loc[4])"
   ]
  },
  {
   "cell_type": "code",
   "execution_count": 27,
   "metadata": {},
   "outputs": [
    {
     "name": "stdout",
     "output_type": "stream",
     "text": [
      "82\n"
     ]
    }
   ],
   "source": [
    "MAX_SEN_LENGTH = 0\n",
    "for i in range(len(snli_train)):\n",
    "    MAX_SEN_LENGTH = max(MAX_SEN_LENGTH, len(snli_train.loc[i]['sentence1'].split()))\n",
    "    MAX_SEN_LENGTH = max(MAX_SEN_LENGTH, len(snli_train.loc[i]['sentence2'].split()))\n",
    "print(MAX_SEN_LENGTH)"
   ]
  },
  {
   "cell_type": "markdown",
   "metadata": {},
   "source": [
    "## Fast Text Vec"
   ]
  },
  {
   "cell_type": "code",
   "execution_count": 28,
   "metadata": {},
   "outputs": [
    {
     "name": "stdout",
     "output_type": "stream",
     "text": [
      ", ['0.1073', '0.0089', '0.0006', '0.0055', '-0.0646', '-0.0600', '0.0450', '-0.0133', '-0.0357', '0.0430', '-0.0356', '-0.0032', '0.0073', '-0.0001', '0.0258', '-0.0166', '0.0075', '0.0686', '0.0392', '0.0753', '0.0115', '-0.0087', '0.0421', '0.0265', '-0.0601', '0.2420', '0.0199', '-0.0739', '-0.0031', '-0.0263', '-0.0062', '0.0168', '-0.0357', '-0.0249', '0.0190', '-0.0184', '-0.0537', '0.1420', '0.0600', '0.0226', '-0.0038', '-0.0675', '-0.0036', '-0.0080', '0.0570', '0.0208', '0.0223', '-0.0256', '-0.0153', '0.0022', '-0.0482', '0.0131', '-0.6016', '-0.0088', '0.0106', '0.0229', '0.0336', '0.0071', '0.0887', '0.0237', '-0.0290', '-0.0405', '-0.0125', '0.0147', '0.0475', '0.0647', '0.0474', '0.0199', '0.0408', '0.0322', '0.0036', '0.0350', '-0.0723', '-0.0305', '0.0184', '-0.0026', '0.0240', '-0.0160', '-0.0308', '0.0434', '0.0147', '-0.0457', '-0.0267', '-0.1703', '-0.0099', '0.0417', '0.0235', '-0.0260', '-0.1519', '-0.0116', '-0.0306', '-0.0413', '0.0330', '0.0723', '0.0365', '-0.0001', '0.0042', '0.0346', '0.0277', '-0.0305', '0.0784', '-0.0404', '0.0187', '-0.0225', '-0.0206', '-0.0179', '-0.2428', '0.0669', '0.0523', '0.0527', '0.0149', '-0.0708', '-0.0987', '0.0263', '-0.0611', '0.0302', '0.0216', '0.0313', '-0.0140', '-0.2495', '-0.0346', '-0.0480', '0.0250', '0.2130', '-0.0330', '-0.1553', '-0.0292', '-0.0346', '0.1074', '0.0010', '-0.0117', '-0.0057', '-0.1280', '-0.0038', '0.0130', '-0.1157', '-0.0108', '0.0275', '0.0158', '-0.0169', '0.0070', '0.0247', '0.0510', '1.0292', '-0.0283', '-0.0310', '-0.0026', '-0.0343', '0.0578', '0.0444', '0.0812', '-0.0211', '-0.0872', '0.0169', '0.0499', '0.0485', '0.0227', '-0.0323', '-0.0035', '0.0435', '-0.0275', '0.0154', '0.0135', '-0.0484', '-0.0699', '-0.0502', '0.2745', '-0.0003', '-0.0371', '0.0517', '-0.0908', '0.0013', '0.0360', '0.0280', '0.0839', '0.0980', '-0.0490', '-0.2423', '-0.0142', '0.0024', '-0.0207', '0.0012', '0.0088', '-0.0143', '-0.0197', '0.0515', '-0.0085', '0.0257', '0.2154', '0.0301', '0.0211', '0.0530', '-0.0005', '0.0177', '0.0016', '-0.0053', '-0.0162', '-0.0223', '-0.1862', '0.0398', '0.0658', '-0.0962', '-0.0076', '-0.0075', '-0.0342', '-0.0265', '0.0420', '0.0522', '-0.0266', '0.0201', '-0.1331', '-0.0367', '0.0351', '0.0518', '-0.0087', '0.0599', '-0.1086', '-0.0188', '0.0481', '0.0105', '-0.0060', '0.0151', '-0.0031', '0.0077', '-0.0276', '-0.0373', '-0.0203', '0.0472', '0.0246', '0.1440', '0.0542', '-0.0225', '0.2495', '0.1617', '0.0038', '0.1119', '-0.0230', '-0.0785', '0.0250', '-0.0616', '-0.0485', '0.0225', '0.0281', '0.0041', '0.0112', '0.0172', '0.0291', '-0.0282', '0.0026', '0.4055', '0.0392', '0.0088', '0.0228', '0.0299', '0.1195', '0.0545', '-0.0020', '0.0020', '0.0490', '0.0145', '-0.0086', '0.0098', '-0.0236', '0.0171', '-0.0765', '-0.0400', '0.0128', '0.0011', '0.0042', '0.0244', '0.0075', '0.0200', '0.0201', '0.0196', '-0.0377', '-0.0432', '-0.0073', '-0.0021', '0.0183', '0.0076', '0.1805', '-0.0551', '0.0075', '-0.0516', '0.0420', '-0.0068', '-0.0711', '-0.1408', '0.0504', '0.0276', '0.0470', '0.0323', '-0.0219', '0.0010', '0.0089', '0.0276', '0.0186', '0.0050', '0.1173', '-0.0400']\n"
     ]
    }
   ],
   "source": [
    "import numpy as np\n",
    "\n",
    "words_to_load = 50000\n",
    "\n",
    "with open('wiki-news-300d-1M.vec') as f:\n",
    "    loaded_embeddings_ft = np.zeros((words_to_load+2, 300))\n",
    "    words_ft = {}\n",
    "    idx2words_ft = {}\n",
    "    ordered_words_ft = []\n",
    "    for i, line in enumerate(f):\n",
    "        if i == 0: continue\n",
    "        if i >= words_to_load+1: \n",
    "            break\n",
    "        s = line.split()\n",
    "        if i == 1:\n",
    "            print(s[0], s[1:])\n",
    "        loaded_embeddings_ft[i+1,:] = np.asarray(s[1:])\n",
    "        words_ft[s[0]] = i+1\n",
    "        idx2words_ft[i+1] = s[0]\n",
    "        ordered_words_ft.append(s[0])\n",
    "        \n",
    "idx2words_ft[0] = '<PAD>'\n",
    "idx2words_ft[1] = '<UNK>'\n",
    "words_ft['<PAD>'] = 0\n",
    "words_ft['<UNK>'] = 1\n",
    "#loaded_embeddings_ft[0] = np.ones(300)\n",
    "loaded_embeddings_ft[0] = np.random.rand(len(loaded_embeddings_ft[0]))\n",
    "loaded_embeddings_ft[1] = np.random.rand(len(loaded_embeddings_ft[1]))\n"
   ]
  },
  {
   "cell_type": "code",
   "execution_count": 29,
   "metadata": {},
   "outputs": [
    {
     "name": "stdout",
     "output_type": "stream",
     "text": [
      "[ 0.69120168  0.11884392  0.58081382  0.37013563  0.59587431  0.29941795\n",
      "  0.50118764  0.3482824   0.54951665  0.92179612  0.53184491  0.58050039\n",
      "  0.6552946   0.27344128  0.659706    0.56383939  0.79625265  0.08156667\n",
      "  0.74656231  0.15269574  0.59391223  0.42883426  0.99869903  0.64588227\n",
      "  0.85709441  0.41877265  0.10935624  0.88897563  0.89546659  0.76666653\n",
      "  0.59581559  0.53250806  0.79258545  0.3020446   0.26480148  0.28584626\n",
      "  0.29044711  0.77347984  0.86918556  0.29399194  0.50642373  0.21329431\n",
      "  0.26647467  0.81699356  0.63635704  0.83138913  0.87448272  0.15049703\n",
      "  0.81612771  0.33652308  0.1483159   0.95108659  0.34062476  0.13632033\n",
      "  0.31149636  0.74276202  0.65121114  0.19589241  0.7551312   0.78656587\n",
      "  0.63243022  0.86314838  0.57194592  0.24618324  0.35103013  0.35330165\n",
      "  0.57411313  0.00103598  0.19486432  0.34778697  0.25170065  0.61017137\n",
      "  0.67259849  0.28821775  0.4071626   0.07235957  0.17769667  0.16866156\n",
      "  0.06180739  0.06401715  0.99603412  0.23405307  0.424279    0.91984032\n",
      "  0.63505202  0.9176526   0.81342189  0.19622414  0.59763142  0.28467633\n",
      "  0.11730605  0.03491111  0.37659388  0.89760616  0.22923067  0.33774037\n",
      "  0.25850666  0.60941487  0.38959924  0.91979975  0.89231717  0.10394471\n",
      "  0.77336205  0.27025002  0.02363324  0.42883162  0.59423945  0.42971622\n",
      "  0.44980147  0.18699794  0.48180048  0.24761163  0.56768744  0.15379689\n",
      "  0.23740617  0.84861084  0.09767874  0.56145902  0.42003687  0.99452507\n",
      "  0.27009091  0.38635155  0.65595951  0.21238931  0.95204426  0.78159815\n",
      "  0.6933781   0.34144757  0.9170714   0.01232436  0.7412152   0.38014923\n",
      "  0.10154128  0.79211587  0.5268865   0.72992445  0.57355825  0.17733444\n",
      "  0.34797906  0.14823732  0.31124181  0.63846807  0.03011953  0.17428904\n",
      "  0.52807388  0.59463326  0.72188032  0.67465155  0.5544723   0.41971049\n",
      "  0.0243539   0.75344877  0.34576208  0.74280249  0.93625869  0.28892815\n",
      "  0.81602118  0.87365373  0.8292032   0.86074119  0.15291308  0.7983743\n",
      "  0.65308979  0.21259161  0.47340826  0.48416237  0.2624683   0.3847606\n",
      "  0.12671301  0.45847103  0.2910917   0.53101275  0.7800868   0.62887393\n",
      "  0.97155825  0.92267162  0.84505987  0.40897128  0.78453487  0.92235794\n",
      "  0.74039369  0.00151399  0.1516993   0.07046084  0.22685846  0.56063308\n",
      "  0.34774798  0.97695604  0.39092112  0.07009506  0.79484724  0.28394351\n",
      "  0.35871473  0.85366669  0.96348758  0.81166304  0.09744736  0.23392877\n",
      "  0.43649845  0.27318492  0.66490456  0.94502376  0.4519678   0.39555029\n",
      "  0.94403158  0.63002995  0.41269903  0.83730926  0.02658934  0.21961867\n",
      "  0.68104304  0.8544055   0.18223305  0.68296883  0.27067687  0.46853157\n",
      "  0.68128417  0.50326493  0.09332328  0.55221101  0.62955323  0.18157784\n",
      "  0.65742237  0.04711648  0.24358266  0.20666851  0.08171776  0.02750815\n",
      "  0.62350882  0.88926044  0.80506528  0.20161574  0.16211011  0.33196508\n",
      "  0.43714426  0.22435693  0.74835194  0.42482297  0.66772801  0.67199011\n",
      "  0.25048814  0.11628706  0.69658172  0.35921983  0.88121378  0.5391531\n",
      "  0.67624062  0.74557912  0.08210254  0.86442407  0.2626255   0.42877248\n",
      "  0.26103922  0.96468953  0.2030598   0.66139565  0.8907064   0.49707526\n",
      "  0.67944275  0.38931761  0.88539365  0.3902915   0.87182339  0.22065403\n",
      "  0.8298131   0.8926267   0.99759722  0.20105821  0.72098741  0.8839839\n",
      "  0.06423216  0.34595292  0.98648451  0.42360825  0.52624117  0.51653564\n",
      "  0.88994828  0.92971362  0.60288961  0.27862563  0.46292432  0.89349555\n",
      "  0.89702561  0.17141573  0.25195878  0.20178539  0.8601033   0.44536456\n",
      "  0.70331942  0.24733549  0.87639198  0.69540907  0.68092055  0.31779173\n",
      "  0.45195668  0.76289208  0.04724385  0.42626172  0.78390105  0.69580967]\n"
     ]
    }
   ],
   "source": [
    "print(loaded_embeddings_ft[words_ft[\"<UNK>\"]])"
   ]
  },
  {
   "cell_type": "code",
   "execution_count": 30,
   "metadata": {},
   "outputs": [
    {
     "name": "stdout",
     "output_type": "stream",
     "text": [
      "300\n"
     ]
    }
   ],
   "source": [
    "print(len(loaded_embeddings_ft[words_ft[\"good\"]]))"
   ]
  },
  {
   "cell_type": "code",
   "execution_count": 31,
   "metadata": {},
   "outputs": [
    {
     "name": "stdout",
     "output_type": "stream",
     "text": [
      "<UNK>\n"
     ]
    }
   ],
   "source": [
    "print(idx2words_ft[1])"
   ]
  },
  {
   "cell_type": "markdown",
   "metadata": {},
   "source": [
    "## DataLoader"
   ]
  },
  {
   "cell_type": "code",
   "execution_count": 32,
   "metadata": {
    "collapsed": true
   },
   "outputs": [],
   "source": [
    "class SNLIDataset(Dataset):\n",
    "    \"\"\"\n",
    "    Class that represents a train/validation/test dataset that's readable for PyTorch\n",
    "    Note that this class inherits torch.utils.data.Dataset\n",
    "    \"\"\"\n",
    "\n",
    "    def __init__(self, data_frame, word2id):\n",
    "        \"\"\"\n",
    "        @param data_list: list of character\n",
    "        @param target_list: list of targets\n",
    "\n",
    "        \"\"\"\n",
    "        self.data_frame = data_frame\n",
    "        self.word2id = word2id\n",
    "\n",
    "    def __len__(self):\n",
    "        return len(self.data_frame)\n",
    "\n",
    "    def __getitem__(self, key):\n",
    "        \"\"\"\n",
    "        Triggered when you call dataset[i]\n",
    "        \"\"\"\n",
    "        sentence1_idx = [self.word2id[w] if w in self.word2id.keys() else UNK_IDX  for w in self.data_frame.loc[key]['sentence1'].split()]\n",
    "        sentence2_idx = [self.word2id[w] if w in self.word2id.keys() else UNK_IDX  for w in self.data_frame.loc[key]['sentence2'].split()]\n",
    "        label = self.data_frame.loc[key]['label']\n",
    "        length_sen1 = min(len(sentence1_idx), MAX_SEN_LENGTH)\n",
    "        length_sen2 = min(len(sentence2_idx), MAX_SEN_LENGTH)\n",
    "#         if key == 0:\n",
    "#             print('sentence1!')\n",
    "#             print(self.word2id['young'])\n",
    "#             print(sentence1_idx)\n",
    "        return [sentence1_idx[:length_sen1], length_sen1, sentence2_idx[:length_sen2], length_sen2, label]\n",
    "\n",
    "    \n",
    "def vocab_collate_func(batch):\n",
    "    \"\"\"\n",
    "    Customized function for DataLoader that dynamically pads the batch so that all\n",
    "    data have the same length\n",
    "    \"\"\"\n",
    "    sentence1_list = []\n",
    "    length_sen1_list = []\n",
    "    sentence2_list = []\n",
    "    length_sen2_list = []\n",
    "    label_list = []\n",
    "    label_dict = {'entailment': 0, 'neutral':1, 'contradiction':2}\n",
    "    for datum in batch:\n",
    "        label_list.append(label_dict[datum[4]])\n",
    "        length_sen1_list.append(int(max(datum[1], MAX_SEN_LENGTH)))\n",
    "        length_sen2_list.append(int(max(datum[3], MAX_SEN_LENGTH)))\n",
    "    \n",
    "    # padding\n",
    "    for datum in batch:\n",
    "\n",
    "        padded_sen1 = np.pad(np.array(datum[0]),\n",
    "                                pad_width=((0,MAX_SEN_LENGTH - datum[1])),\n",
    "                                mode=\"constant\", constant_values=0)\n",
    "        sentence1_list.append(padded_sen1)\n",
    "        \n",
    "        padded_sen2 = np.pad(np.array(datum[2]),\n",
    "                                pad_width=((0,MAX_SEN_LENGTH - datum[3])),\n",
    "                                mode=\"constant\", constant_values=0)\n",
    "        sentence2_list.append(padded_sen2)\n",
    "\n",
    "    return [torch.from_numpy(np.array(sentence1_list)), torch.LongTensor(length_sen1_list), torch.from_numpy(np.array(sentence2_list)), torch.LongTensor(length_sen2_list) , torch.LongTensor(label_list)]\n"
   ]
  },
  {
   "cell_type": "code",
   "execution_count": 70,
   "metadata": {
    "collapsed": true
   },
   "outputs": [],
   "source": [
    "# Build train, valid and test dataloaders\n",
    "\n",
    "train_dataset = SNLIDataset(snli_train, words_ft)\n",
    "train_loader = torch.utils.data.DataLoader(dataset=train_dataset,\n",
    "                                           batch_size=BATCH_SIZE,\n",
    "                                           collate_fn=vocab_collate_func,\n",
    "                                           shuffle=True)\n",
    "\n",
    "val_dataset = SNLIDataset(snli_val, words_ft)\n",
    "val_loader = torch.utils.data.DataLoader(dataset=val_dataset,\n",
    "                                           batch_size=BATCH_SIZE,\n",
    "                                           collate_fn=vocab_collate_func,\n",
    "                                           shuffle=True)\n"
   ]
  },
  {
   "cell_type": "markdown",
   "metadata": {},
   "source": [
    "## Models"
   ]
  },
  {
   "cell_type": "markdown",
   "metadata": {},
   "source": [
    "### GRU"
   ]
  },
  {
   "cell_type": "code",
   "execution_count": 85,
   "metadata": {
    "collapsed": true
   },
   "outputs": [],
   "source": [
    "###### needs to change\n",
    "def create_emb_layer(weights_matrix, non_trainable=True):\n",
    "    num_embeddings, embedding_dim = weights_matrix.size()\n",
    "    emb_layer = nn.Embedding(num_embeddings, embedding_dim)\n",
    "    emb_layer.load_state_dict({'weight': weights_matrix})\n",
    "    if non_trainable:\n",
    "        emb_layer.weight.requires_grad = False\n",
    "    \n",
    "    return emb_layer, num_embeddings, embedding_dim\n",
    "\n",
    "class Encoder(nn.Module):\n",
    "    def __init__(self, weights_matrix, hidden_size, num_layers):\n",
    "        super(Encoder, self).__init__()\n",
    "        self.embedding, num_embeddings, embedding_dim = create_emb_layer(weights_matrix, True)\n",
    "        self.hidden_size = hidden_size\n",
    "        self.num_layers = num_layers\n",
    "        #self.rnn = nn.RNN(embedding_dim, hidden_size, num_layers, batch_first=True)\n",
    "        self.gru = nn.GRU(embedding_dim, hidden_size, num_layers, batch_first=True, bidirectional = True)\n",
    "        self.fc1 = nn.Linear(2*hidden_size, hidden_size)\n",
    "        self.fc2 = nn.Linear(hidden_size, 3)\n",
    "    \n",
    "\n",
    "        \n",
    "    def forward(self, sen1, sen2, len1, len2):\n",
    "        batch_size, _ = sen1.size()\n",
    "        \n",
    "        # sort\n",
    "#         sen1_order = np.argsort(len1)[::-1]\n",
    "#         sen1 = sen1[sen1_order]\n",
    "#         sen2_order = np.argsort(len2)[::-1]\n",
    "#         sen2 = sen2[sen2_order]\n",
    "        \n",
    "        order_sen1 = np.argsort(np.array(len1))[::-1]\n",
    "        order_sen2 = np.argsort(np.array(len2))[::-1]\n",
    "        sen1 = np.array(sen1)[order_sen1]\n",
    "        sen2 = np.array(sen2)[order_sen2]\n",
    "        len1 = np.array(len1)[order_sen1]\n",
    "        len2 = np.array(len2)[order_sen2]\n",
    "        \n",
    "        idx_sen1 = np.argsort(order_sen1)\n",
    "        idx_sen2 = np.argsort(order_sen2)\n",
    "        \n",
    "        \n",
    "        sen1_embed = self.embedding(torch.from_numpy(sen1))\n",
    "        sen2_embed = self.embedding(torch.from_numpy(sen2))\n",
    "        \n",
    "        \n",
    "        # pack padded sequences\n",
    "        sen1_embed = torch.nn.utils.rnn.pack_padded_sequence(sen1_embed, len1, batch_first=True)\n",
    "        sen2_embed = torch.nn.utils.rnn.pack_padded_sequence(sen2_embed, len2, batch_first=True)\n",
    "        \n",
    "        \n",
    "#         sen1_embed = torch.from_numpy(np.array(sen1_embed)[idx_sen1])\n",
    "#         sen2_embed = torch.from_numpy(np.array(sen2_embed)[idx_sen2])\n",
    "            \n",
    "        \n",
    "        self.hidden1 = self.init_hidden(batch_size)\n",
    "        self.hidden2 = self.init_hidden(batch_size)\n",
    "        \n",
    "#         print(sen1)\n",
    "#         print(sen2)\n",
    "#         print(sen1_embed - sen2_embed)\n",
    "        #print(sen2_embed)\n",
    "        #print(sen1_embed.size())\n",
    "\n",
    "        sen1_encoded, self.hidden1 = self.gru(sen1_embed, self.hidden1)      \n",
    "        sen2_encoded, self.hidden2 = self.gru(sen2_embed, self.hidden2)\n",
    "\n",
    "        \n",
    "#         sen1_encoded = torch.sum(sen1_encoded, dim=1)\n",
    "#         sen2_encoded = torch.sum(sen2_encoded, dim=1)\n",
    "        \n",
    "        self.hidden1 = self.hidden1[:, idx_sen1, :]\n",
    "        self.hidden2 = self.hidden2[:, idx_sen2, :]\n",
    "\n",
    "        \n",
    "\n",
    "        logits = self.fc1(torch.cat((torch.sum(self.hidden1, dim = 0), torch.sum(self.hidden2, dim = 0)), 1))\n",
    "        #logits = self.fc1(torch.cat((sen1_encoded, sen2_encoded), 1))\n",
    "        #logits = self.fc2(logits)\n",
    "        logits = F.relu(logits)\n",
    "        logits = self.fc2(logits)\n",
    "        return logits\n",
    "    \n",
    "    def init_hidden(self, batch_size):\n",
    "        return torch.randn(2*self.num_layers, batch_size, self.hidden_size)"
   ]
  },
  {
   "cell_type": "code",
   "execution_count": 149,
   "metadata": {
    "collapsed": true
   },
   "outputs": [],
   "source": [
    "model = Encoder(weights_matrix = torch.from_numpy(loaded_embeddings_ft), hidden_size=50, num_layers=2)\n",
    "#model.hidden11 = model.init_\n",
    "\n",
    "learning_rate = 3e-4\n",
    "num_epochs = 15 # number epoch to train\n",
    "\n",
    "# Criterion and Optimizer\n",
    "criterion = torch.nn.CrossEntropyLoss()\n",
    "optimizer = torch.optim.Adam(filter(lambda p: p.requires_grad, model.parameters()), lr=learning_rate)"
   ]
  },
  {
   "cell_type": "code",
   "execution_count": 150,
   "metadata": {},
   "outputs": [
    {
     "name": "stdout",
     "output_type": "stream",
     "text": [
      "156403\n"
     ]
    }
   ],
   "source": [
    "pytorch_total_params = sum(p.numel() for p in filter(lambda p: p.requires_grad, model.parameters()))\n",
    "print(pytorch_total_params)"
   ]
  },
  {
   "cell_type": "markdown",
   "metadata": {},
   "source": [
    "## Training"
   ]
  },
  {
   "cell_type": "code",
   "execution_count": 88,
   "metadata": {
    "collapsed": true
   },
   "outputs": [],
   "source": [
    "def test_model(loader, model):\n",
    "    \"\"\"\n",
    "    Help function that tests the model's performance on a dataset\n",
    "    @param: loader - data loader for the dataset to test against\n",
    "    \"\"\"\n",
    "    correct = 0\n",
    "    total = 0\n",
    "    model.eval()\n",
    "    for (sen1, len1, sen2, len2, labels) in loader:\n",
    "        #data_batch, lengths_batch, label_batch = data, lengths, labels\n",
    "        output = model(sen1, sen2, len1, len2)\n",
    "        #print(output)\n",
    "        outputs = F.softmax(output, dim=1)\n",
    "        #val_loss = criterion(outputs, labels)\n",
    "        predicted = outputs.max(1, keepdim=True)[1]\n",
    "        total += labels.size(0)\n",
    "        #print(predicted)\n",
    "        #print(labels)\n",
    "        correct += predicted.eq(labels.view_as(predicted)).sum().item()\n",
    "    return (100 * correct / total)"
   ]
  },
  {
   "cell_type": "code",
   "execution_count": 89,
   "metadata": {},
   "outputs": [
    {
     "name": "stdout",
     "output_type": "stream",
     "text": [
      "Epoch: [1/15], Train Acc: 59.956, Validation Acc: 58.2, Train Loss: 0.8931484818458557\n",
      "Epoch: [2/15], Train Acc: 62.266, Validation Acc: 59.5, Train Loss: 0.8571658730506897\n",
      "Epoch: [3/15], Train Acc: 64.001, Validation Acc: 63.0, Train Loss: 0.7238728404045105\n",
      "Epoch: [4/15], Train Acc: 65.365, Validation Acc: 63.6, Train Loss: 0.9025130271911621\n",
      "Epoch: [5/15], Train Acc: 67.4, Validation Acc: 66.6, Train Loss: 0.7207778692245483\n",
      "Epoch: [6/15], Train Acc: 69.192, Validation Acc: 67.7, Train Loss: 0.5771173238754272\n",
      "Epoch: [7/15], Train Acc: 70.102, Validation Acc: 69.0, Train Loss: 0.5252119898796082\n",
      "Epoch: [8/15], Train Acc: 71.195, Validation Acc: 69.0, Train Loss: 0.6626285910606384\n",
      "Epoch: [9/15], Train Acc: 71.822, Validation Acc: 70.0, Train Loss: 0.6757128238677979\n",
      "Epoch: [10/15], Train Acc: 72.207, Validation Acc: 69.6, Train Loss: 0.9577920436859131\n",
      "Epoch: [11/15], Train Acc: 73.277, Validation Acc: 69.6, Train Loss: 0.7872992157936096\n",
      "Epoch: [12/15], Train Acc: 74.026, Validation Acc: 70.8, Train Loss: 0.5109829306602478\n",
      "Epoch: [13/15], Train Acc: 74.055, Validation Acc: 70.6, Train Loss: 0.6836599707603455\n",
      "Epoch: [14/15], Train Acc: 75.194, Validation Acc: 70.5, Train Loss: 0.701323926448822\n",
      "Epoch: [15/15], Train Acc: 75.883, Validation Acc: 69.8, Train Loss: 0.5623540878295898\n"
     ]
    }
   ],
   "source": [
    "# Train the model\n",
    "total_step = len(train_loader)\n",
    "\n",
    "train_history = []\n",
    "val_history = []\n",
    "\n",
    "for epoch in range(num_epochs):\n",
    "    for i, (sen1, len1, sen2, len2, labels) in enumerate(train_loader):\n",
    "    \n",
    "        model.train()\n",
    "        optimizer.zero_grad()\n",
    "        # Forward pass\n",
    "        outputs = model(sen1, sen2, len1, len2)\n",
    "\n",
    "        #if i == 0: print(sen1, sen2, labels)\n",
    "        \n",
    "        loss = criterion(outputs, labels)\n",
    "        # Backward and optimize\n",
    "        loss.backward()\n",
    "        optimizer.step()\n",
    "        # validate every 100 iterations\n",
    "#         if i > 0 and i % 1 == 0:\n",
    "#             # validate\n",
    "#         print('STEP: [{}/{}], Validation Acc: {}, Train Loss: {}'.format(\n",
    "#                epoch+1, num_epochs, 0, loss))\n",
    "    train_acc = test_model(train_loader, model)\n",
    "    val_acc = test_model(val_loader, model)\n",
    "    \n",
    "    print('Epoch: [{}/{}], Train Acc: {}, Validation Acc: {}, Train Loss: {}'.format(\n",
    "               epoch+1, num_epochs, train_acc, val_acc, loss))\n",
    "    if epoch == 0 or val_acc > max(val_history):\n",
    "        torch.save(model.state_dict(), 'GRUModel_hidden_50.pth')\n",
    "    val_history.append(val_acc)\n",
    "    train_history.append(train_acc)\n",
    "    # Early stopping\n",
    "#     if epoch >= 3:\n",
    "#         if val_history[epoch] < val_history[epoch-1] and val_history[epoch-1] < val_history[epoch - 2] and val_history[epoch - 2] < val_history[epoch - 3]:\n",
    "#             break\n",
    "    "
   ]
  },
  {
   "cell_type": "markdown",
   "metadata": {
    "collapsed": true
   },
   "source": [
    "### CNN"
   ]
  },
  {
   "cell_type": "code",
   "execution_count": 61,
   "metadata": {
    "collapsed": true
   },
   "outputs": [],
   "source": [
    "class CNN(nn.Module):\n",
    "    def __init__(self, weights_matrix, hidden_size, num_layers, num_classes, kernel_size_k = 3):\n",
    "\n",
    "        super(CNN, self).__init__()\n",
    "\n",
    "        self.num_layers, self.hidden_size = num_layers, hidden_size\n",
    "        self.embedding, num_embeddings, embedding_dim = create_emb_layer(weights_matrix, True)\n",
    "        \n",
    "        self.conv1 = nn.Conv1d(embedding_dim , hidden_size, kernel_size=kernel_size_k, padding= (kernel_size_k - 1)/2)\n",
    "        self.conv2 = nn.Conv1d(hidden_size, hidden_size, kernel_size=kernel_size_k, padding= (kernel_size_k - 1)/2)\n",
    "\n",
    "        self.linear1 = nn.Linear(2*hidden_size, hidden_size)\n",
    "        self.linear2 = nn.Linear(hidden_size, 3)\n",
    "\n",
    "    def forward(self, sen1, sen2, len1, len2):\n",
    "        batch_size, seq_len = sen1.size()\n",
    "\n",
    "        sen1_embed = self.embedding(sen1)\n",
    "        sen2_embed = self.embedding(sen2)\n",
    "        \n",
    "        \n",
    "        sen1_hidden = self.conv1(sen1_embed.transpose(1,2)).transpose(1,2)\n",
    "        \n",
    "        \n",
    "        sen1_hidden = F.relu(sen1_hidden.contiguous().view(-1, sen1_hidden.size(-1))).view(batch_size, seq_len, sen1_hidden.size(-1))\n",
    "        \n",
    "        sen1_hidden = self.conv2(sen1_hidden.transpose(1,2)).transpose(1,2)\n",
    "        sen1_hidden = F.relu(sen1_hidden.contiguous().view(-1, sen1_hidden.size(-1))).view(batch_size, seq_len, sen1_hidden.size(-1))\n",
    "\n",
    "        sen1_hidden = torch.sum(sen1_hidden, dim=1)\n",
    "        \n",
    "        sen2_hidden = self.conv1(sen2_embed.transpose(1,2)).transpose(1,2)\n",
    "        sen2_hidden = F.relu(sen2_hidden.contiguous().view(-1, sen2_hidden.size(-1))).view(batch_size, seq_len, sen2_hidden.size(-1))\n",
    "\n",
    "        sen2_hidden = self.conv2(sen2_hidden.transpose(1,2)).transpose(1,2)\n",
    "        sen2_hidden = F.relu(sen2_hidden.contiguous().view(-1, sen2_hidden.size(-1))).view(batch_size, seq_len, sen2_hidden.size(-1))\n",
    "\n",
    "        sen2_hidden = torch.sum(sen2_hidden, dim=1)\n",
    "        \n",
    "        #print(torch.cat((sen1_hidden, sen2_hidden), 1))\n",
    "        \n",
    "        logits = self.linear1(torch.cat((sen1_hidden, sen2_hidden), 1))\n",
    "        logits = F.relu(logits)\n",
    "        logits = self.linear2(logits)\n",
    "        return logits"
   ]
  },
  {
   "cell_type": "code",
   "execution_count": 159,
   "metadata": {},
   "outputs": [],
   "source": [
    "model = CNN(weights_matrix = torch.from_numpy(loaded_embeddings_ft), hidden_size = 100, num_layers=2, num_classes=3, kernel_size_k = 3)\n",
    "\n",
    "learning_rate = 1e-3\n",
    "num_epochs = 100 # number epoch to train\n",
    "\n",
    "# Criterion and Optimizer\n",
    "criterion = torch.nn.CrossEntropyLoss()\n",
    "optimizer = torch.optim.Adam(filter(lambda p: p.requires_grad, model.parameters()), lr=learning_rate)\n"
   ]
  },
  {
   "cell_type": "code",
   "execution_count": 160,
   "metadata": {},
   "outputs": [
    {
     "name": "stdout",
     "output_type": "stream",
     "text": [
      "140603\n"
     ]
    }
   ],
   "source": [
    "pytorch_total_params = sum(p.numel() for p in filter(lambda p: p.requires_grad, model.parameters()))\n",
    "print(pytorch_total_params)"
   ]
  },
  {
   "cell_type": "code",
   "execution_count": 78,
   "metadata": {},
   "outputs": [
    {
     "name": "stdout",
     "output_type": "stream",
     "text": [
      "Epoch: [1/100], Train Acc: 64.454, Validation Acc: 63.8, Train Loss: 0.7439646124839783\n",
      "Epoch: [2/100], Train Acc: 67.671, Validation Acc: 64.4, Train Loss: 0.7520263195037842\n",
      "Epoch: [3/100], Train Acc: 42.115, Validation Acc: 42.7, Train Loss: 0.4134618639945984\n",
      "Epoch: [4/100], Train Acc: 72.446, Validation Acc: 67.9, Train Loss: 0.6865326166152954\n",
      "Epoch: [5/100], Train Acc: 75.343, Validation Acc: 68.1, Train Loss: 0.6019357442855835\n",
      "Epoch: [6/100], Train Acc: 77.342, Validation Acc: 68.4, Train Loss: 0.6899414658546448\n",
      "Epoch: [7/100], Train Acc: 79.263, Validation Acc: 67.9, Train Loss: 0.645370602607727\n",
      "Epoch: [8/100], Train Acc: 80.655, Validation Acc: 67.7, Train Loss: 0.5697841644287109\n",
      "Epoch: [9/100], Train Acc: 81.849, Validation Acc: 68.4, Train Loss: 0.6656584739685059\n",
      "Epoch: [10/100], Train Acc: 83.664, Validation Acc: 67.8, Train Loss: 0.40601474046707153\n",
      "Epoch: [11/100], Train Acc: 84.833, Validation Acc: 66.7, Train Loss: 0.2510104477405548\n",
      "Epoch: [12/100], Train Acc: 86.352, Validation Acc: 67.4, Train Loss: 0.38318192958831787\n",
      "Epoch: [13/100], Train Acc: 86.155, Validation Acc: 67.8, Train Loss: 0.48748672008514404\n",
      "Epoch: [14/100], Train Acc: 88.125, Validation Acc: 67.6, Train Loss: 0.3921976089477539\n",
      "Epoch: [15/100], Train Acc: 89.339, Validation Acc: 67.3, Train Loss: 0.3814208209514618\n",
      "Epoch: [16/100], Train Acc: 90.385, Validation Acc: 67.4, Train Loss: 0.3531858026981354\n"
     ]
    },
    {
     "ename": "KeyboardInterrupt",
     "evalue": "",
     "output_type": "error",
     "traceback": [
      "\u001b[0;31m---------------------------------------------------------------------------\u001b[0m",
      "\u001b[0;31mKeyboardInterrupt\u001b[0m                         Traceback (most recent call last)",
      "\u001b[0;32m<ipython-input-78-206ca20dd173>\u001b[0m in \u001b[0;36m<module>\u001b[0;34m()\u001b[0m\n\u001b[1;32m     24\u001b[0m \u001b[0;31m#         print('STEP: [{}/{}], Validation Acc: {}, Train Loss: {}'.format(\u001b[0m\u001b[0;34m\u001b[0m\u001b[0;34m\u001b[0m\u001b[0m\n\u001b[1;32m     25\u001b[0m \u001b[0;31m#                epoch+1, num_epochs, 0, loss))\u001b[0m\u001b[0;34m\u001b[0m\u001b[0;34m\u001b[0m\u001b[0m\n\u001b[0;32m---> 26\u001b[0;31m     \u001b[0mtrain_acc\u001b[0m \u001b[0;34m=\u001b[0m \u001b[0mtest_model\u001b[0m\u001b[0;34m(\u001b[0m\u001b[0mtrain_loader\u001b[0m\u001b[0;34m,\u001b[0m \u001b[0mmodel\u001b[0m\u001b[0;34m)\u001b[0m\u001b[0;34m\u001b[0m\u001b[0m\n\u001b[0m\u001b[1;32m     27\u001b[0m     \u001b[0mval_acc\u001b[0m \u001b[0;34m=\u001b[0m \u001b[0mtest_model\u001b[0m\u001b[0;34m(\u001b[0m\u001b[0mval_loader\u001b[0m\u001b[0;34m,\u001b[0m \u001b[0mmodel\u001b[0m\u001b[0;34m)\u001b[0m\u001b[0;34m\u001b[0m\u001b[0m\n\u001b[1;32m     28\u001b[0m \u001b[0;34m\u001b[0m\u001b[0m\n",
      "\u001b[0;32m<ipython-input-49-e14edfa89511>\u001b[0m in \u001b[0;36mtest_model\u001b[0;34m(loader, model)\u001b[0m\n\u001b[1;32m      9\u001b[0m     \u001b[0;32mfor\u001b[0m \u001b[0;34m(\u001b[0m\u001b[0msen1\u001b[0m\u001b[0;34m,\u001b[0m \u001b[0mlen1\u001b[0m\u001b[0;34m,\u001b[0m \u001b[0msen2\u001b[0m\u001b[0;34m,\u001b[0m \u001b[0mlen2\u001b[0m\u001b[0;34m,\u001b[0m \u001b[0mlabels\u001b[0m\u001b[0;34m)\u001b[0m \u001b[0;32min\u001b[0m \u001b[0mloader\u001b[0m\u001b[0;34m:\u001b[0m\u001b[0;34m\u001b[0m\u001b[0m\n\u001b[1;32m     10\u001b[0m         \u001b[0;31m#data_batch, lengths_batch, label_batch = data, lengths, labels\u001b[0m\u001b[0;34m\u001b[0m\u001b[0;34m\u001b[0m\u001b[0m\n\u001b[0;32m---> 11\u001b[0;31m         \u001b[0moutput\u001b[0m \u001b[0;34m=\u001b[0m \u001b[0mmodel\u001b[0m\u001b[0;34m(\u001b[0m\u001b[0msen1\u001b[0m\u001b[0;34m,\u001b[0m \u001b[0msen2\u001b[0m\u001b[0;34m,\u001b[0m \u001b[0mlen1\u001b[0m\u001b[0;34m,\u001b[0m \u001b[0mlen2\u001b[0m\u001b[0;34m)\u001b[0m\u001b[0;34m\u001b[0m\u001b[0m\n\u001b[0m\u001b[1;32m     12\u001b[0m         \u001b[0;31m#print(output)\u001b[0m\u001b[0;34m\u001b[0m\u001b[0;34m\u001b[0m\u001b[0m\n\u001b[1;32m     13\u001b[0m         \u001b[0moutputs\u001b[0m \u001b[0;34m=\u001b[0m \u001b[0mF\u001b[0m\u001b[0;34m.\u001b[0m\u001b[0msoftmax\u001b[0m\u001b[0;34m(\u001b[0m\u001b[0moutput\u001b[0m\u001b[0;34m,\u001b[0m \u001b[0mdim\u001b[0m\u001b[0;34m=\u001b[0m\u001b[0;36m1\u001b[0m\u001b[0;34m)\u001b[0m\u001b[0;34m\u001b[0m\u001b[0m\n",
      "\u001b[0;32m/Users/groupm/anaconda2/envs/py36/lib/python3.6/site-packages/torch/nn/modules/module.py\u001b[0m in \u001b[0;36m__call__\u001b[0;34m(self, *input, **kwargs)\u001b[0m\n\u001b[1;32m    489\u001b[0m             \u001b[0mresult\u001b[0m \u001b[0;34m=\u001b[0m \u001b[0mself\u001b[0m\u001b[0;34m.\u001b[0m\u001b[0m_slow_forward\u001b[0m\u001b[0;34m(\u001b[0m\u001b[0;34m*\u001b[0m\u001b[0minput\u001b[0m\u001b[0;34m,\u001b[0m \u001b[0;34m**\u001b[0m\u001b[0mkwargs\u001b[0m\u001b[0;34m)\u001b[0m\u001b[0;34m\u001b[0m\u001b[0m\n\u001b[1;32m    490\u001b[0m         \u001b[0;32melse\u001b[0m\u001b[0;34m:\u001b[0m\u001b[0;34m\u001b[0m\u001b[0m\n\u001b[0;32m--> 491\u001b[0;31m             \u001b[0mresult\u001b[0m \u001b[0;34m=\u001b[0m \u001b[0mself\u001b[0m\u001b[0;34m.\u001b[0m\u001b[0mforward\u001b[0m\u001b[0;34m(\u001b[0m\u001b[0;34m*\u001b[0m\u001b[0minput\u001b[0m\u001b[0;34m,\u001b[0m \u001b[0;34m**\u001b[0m\u001b[0mkwargs\u001b[0m\u001b[0;34m)\u001b[0m\u001b[0;34m\u001b[0m\u001b[0m\n\u001b[0m\u001b[1;32m    492\u001b[0m         \u001b[0;32mfor\u001b[0m \u001b[0mhook\u001b[0m \u001b[0;32min\u001b[0m \u001b[0mself\u001b[0m\u001b[0;34m.\u001b[0m\u001b[0m_forward_hooks\u001b[0m\u001b[0;34m.\u001b[0m\u001b[0mvalues\u001b[0m\u001b[0;34m(\u001b[0m\u001b[0;34m)\u001b[0m\u001b[0;34m:\u001b[0m\u001b[0;34m\u001b[0m\u001b[0m\n\u001b[1;32m    493\u001b[0m             \u001b[0mhook_result\u001b[0m \u001b[0;34m=\u001b[0m \u001b[0mhook\u001b[0m\u001b[0;34m(\u001b[0m\u001b[0mself\u001b[0m\u001b[0;34m,\u001b[0m \u001b[0minput\u001b[0m\u001b[0;34m,\u001b[0m \u001b[0mresult\u001b[0m\u001b[0;34m)\u001b[0m\u001b[0;34m\u001b[0m\u001b[0m\n",
      "\u001b[0;32m<ipython-input-61-dce9ad08a26b>\u001b[0m in \u001b[0;36mforward\u001b[0;34m(self, sen1, sen2, len1, len2)\u001b[0m\n\u001b[1;32m     20\u001b[0m \u001b[0;34m\u001b[0m\u001b[0m\n\u001b[1;32m     21\u001b[0m \u001b[0;34m\u001b[0m\u001b[0m\n\u001b[0;32m---> 22\u001b[0;31m         \u001b[0msen1_hidden\u001b[0m \u001b[0;34m=\u001b[0m \u001b[0mself\u001b[0m\u001b[0;34m.\u001b[0m\u001b[0mconv1\u001b[0m\u001b[0;34m(\u001b[0m\u001b[0msen1_embed\u001b[0m\u001b[0;34m.\u001b[0m\u001b[0mtranspose\u001b[0m\u001b[0;34m(\u001b[0m\u001b[0;36m1\u001b[0m\u001b[0;34m,\u001b[0m\u001b[0;36m2\u001b[0m\u001b[0;34m)\u001b[0m\u001b[0;34m)\u001b[0m\u001b[0;34m.\u001b[0m\u001b[0mtranspose\u001b[0m\u001b[0;34m(\u001b[0m\u001b[0;36m1\u001b[0m\u001b[0;34m,\u001b[0m\u001b[0;36m2\u001b[0m\u001b[0;34m)\u001b[0m\u001b[0;34m\u001b[0m\u001b[0m\n\u001b[0m\u001b[1;32m     23\u001b[0m \u001b[0;34m\u001b[0m\u001b[0m\n\u001b[1;32m     24\u001b[0m \u001b[0;34m\u001b[0m\u001b[0m\n",
      "\u001b[0;32m/Users/groupm/anaconda2/envs/py36/lib/python3.6/site-packages/torch/nn/modules/module.py\u001b[0m in \u001b[0;36m__call__\u001b[0;34m(self, *input, **kwargs)\u001b[0m\n\u001b[1;32m    489\u001b[0m             \u001b[0mresult\u001b[0m \u001b[0;34m=\u001b[0m \u001b[0mself\u001b[0m\u001b[0;34m.\u001b[0m\u001b[0m_slow_forward\u001b[0m\u001b[0;34m(\u001b[0m\u001b[0;34m*\u001b[0m\u001b[0minput\u001b[0m\u001b[0;34m,\u001b[0m \u001b[0;34m**\u001b[0m\u001b[0mkwargs\u001b[0m\u001b[0;34m)\u001b[0m\u001b[0;34m\u001b[0m\u001b[0m\n\u001b[1;32m    490\u001b[0m         \u001b[0;32melse\u001b[0m\u001b[0;34m:\u001b[0m\u001b[0;34m\u001b[0m\u001b[0m\n\u001b[0;32m--> 491\u001b[0;31m             \u001b[0mresult\u001b[0m \u001b[0;34m=\u001b[0m \u001b[0mself\u001b[0m\u001b[0;34m.\u001b[0m\u001b[0mforward\u001b[0m\u001b[0;34m(\u001b[0m\u001b[0;34m*\u001b[0m\u001b[0minput\u001b[0m\u001b[0;34m,\u001b[0m \u001b[0;34m**\u001b[0m\u001b[0mkwargs\u001b[0m\u001b[0;34m)\u001b[0m\u001b[0;34m\u001b[0m\u001b[0m\n\u001b[0m\u001b[1;32m    492\u001b[0m         \u001b[0;32mfor\u001b[0m \u001b[0mhook\u001b[0m \u001b[0;32min\u001b[0m \u001b[0mself\u001b[0m\u001b[0;34m.\u001b[0m\u001b[0m_forward_hooks\u001b[0m\u001b[0;34m.\u001b[0m\u001b[0mvalues\u001b[0m\u001b[0;34m(\u001b[0m\u001b[0;34m)\u001b[0m\u001b[0;34m:\u001b[0m\u001b[0;34m\u001b[0m\u001b[0m\n\u001b[1;32m    493\u001b[0m             \u001b[0mhook_result\u001b[0m \u001b[0;34m=\u001b[0m \u001b[0mhook\u001b[0m\u001b[0;34m(\u001b[0m\u001b[0mself\u001b[0m\u001b[0;34m,\u001b[0m \u001b[0minput\u001b[0m\u001b[0;34m,\u001b[0m \u001b[0mresult\u001b[0m\u001b[0;34m)\u001b[0m\u001b[0;34m\u001b[0m\u001b[0m\n",
      "\u001b[0;32m/Users/groupm/anaconda2/envs/py36/lib/python3.6/site-packages/torch/nn/modules/conv.py\u001b[0m in \u001b[0;36mforward\u001b[0;34m(self, input)\u001b[0m\n\u001b[1;32m    174\u001b[0m     \u001b[0;32mdef\u001b[0m \u001b[0mforward\u001b[0m\u001b[0;34m(\u001b[0m\u001b[0mself\u001b[0m\u001b[0;34m,\u001b[0m \u001b[0minput\u001b[0m\u001b[0;34m)\u001b[0m\u001b[0;34m:\u001b[0m\u001b[0;34m\u001b[0m\u001b[0m\n\u001b[1;32m    175\u001b[0m         return F.conv1d(input, self.weight, self.bias, self.stride,\n\u001b[0;32m--> 176\u001b[0;31m                         self.padding, self.dilation, self.groups)\n\u001b[0m\u001b[1;32m    177\u001b[0m \u001b[0;34m\u001b[0m\u001b[0m\n\u001b[1;32m    178\u001b[0m \u001b[0;34m\u001b[0m\u001b[0m\n",
      "\u001b[0;31mKeyboardInterrupt\u001b[0m: "
     ]
    }
   ],
   "source": [
    "# Train the model\n",
    "total_step = len(train_loader)\n",
    "\n",
    "train_history = []\n",
    "val_history = []\n",
    "\n",
    "for epoch in range(num_epochs):\n",
    "    for i, (sen1, len1, sen2, len2, labels) in enumerate(train_loader):\n",
    "    \n",
    "        model.train()\n",
    "        optimizer.zero_grad()\n",
    "        # Forward pass\n",
    "        outputs = model(sen1, sen2, len1, len2)\n",
    "\n",
    "        #if i == 0: print(sen1, sen2, labels)\n",
    "        \n",
    "        loss = criterion(outputs, labels)\n",
    "        # Backward and optimize\n",
    "        loss.backward()\n",
    "        optimizer.step()\n",
    "        # validate every 100 iterations\n",
    "#         if i > 0 and i % 1 == 0:\n",
    "#             # validate\n",
    "#         print('STEP: [{}/{}], Validation Acc: {}, Train Loss: {}'.format(\n",
    "#                epoch+1, num_epochs, 0, loss))\n",
    "    train_acc = test_model(train_loader, model)\n",
    "    val_acc = test_model(val_loader, model)\n",
    "    \n",
    "    print('Epoch: [{}/{}], Train Acc: {}, Validation Acc: {}, Train Loss: {}'.format(\n",
    "               epoch+1, num_epochs, train_acc, val_acc, loss))\n",
    "    if epoch == 0 or val_acc > max(val_history):\n",
    "        torch.save(model.state_dict(), 'CNNModel_hidden_100.pth')\n",
    "    val_history.append(val_acc)\n",
    "    train_history.append(train_acc)\n",
    "    # Early stopping\n",
    "#     if epoch >= 3:\n",
    "#         if val_history[epoch] < val_history[epoch-1] and val_history[epoch-1] < val_history[epoch - 2] and val_history[epoch - 2] < val_history[epoch - 3]:\n",
    "#             break\n",
    "    "
   ]
  },
  {
   "cell_type": "markdown",
   "metadata": {},
   "source": [
    "## MultiSNLI"
   ]
  },
  {
   "cell_type": "code",
   "execution_count": 37,
   "metadata": {},
   "outputs": [],
   "source": [
    "mnli_train = pd.read_csv('mnli_train.tsv', sep='\\t', header=0)\n",
    "mnli_val = pd.read_csv('mnli_val.tsv', sep='\\t', header=0)"
   ]
  },
  {
   "cell_type": "code",
   "execution_count": 38,
   "metadata": {},
   "outputs": [
    {
     "data": {
      "text/plain": [
       "array(['telephone', 'fiction', 'slate', 'government', 'travel'], dtype=object)"
      ]
     },
     "execution_count": 38,
     "metadata": {},
     "output_type": "execute_result"
    }
   ],
   "source": [
    "mnli_train['genre'].unique()"
   ]
  },
  {
   "cell_type": "code",
   "execution_count": 39,
   "metadata": {
    "collapsed": true
   },
   "outputs": [],
   "source": [
    "mnli_train_telephone = mnli_train.loc[mnli_train.genre=='telephone'].reset_index(drop=True)\n",
    "mnli_train_fiction = mnli_train.loc[mnli_train.genre=='fiction'].reset_index(drop=True)\n",
    "mnli_train_slate = mnli_train.loc[mnli_train.genre=='slate'].reset_index(drop=True)\n",
    "mnli_train_government = mnli_train.loc[mnli_train.genre=='government'].reset_index(drop=True)\n",
    "mnli_train_travel = mnli_train.loc[mnli_train.genre=='travel'].reset_index(drop=True)\n"
   ]
  },
  {
   "cell_type": "code",
   "execution_count": 40,
   "metadata": {},
   "outputs": [],
   "source": [
    "mnli_train_telephone_dataset = SNLIDataset(mnli_train_telephone, words_ft)\n",
    "mnli_train_telephone_loader = torch.utils.data.DataLoader(dataset=mnli_train_telephone_dataset,\n",
    "                                           batch_size=BATCH_SIZE,\n",
    "                                           collate_fn=vocab_collate_func,\n",
    "                                           shuffle=True)\n",
    "\n",
    "mnli_train_fiction_dataset = SNLIDataset(mnli_train_fiction, words_ft)\n",
    "mnli_train_fiction_loader = torch.utils.data.DataLoader(dataset=mnli_train_fiction_dataset,\n",
    "                                           batch_size=BATCH_SIZE,\n",
    "                                           collate_fn=vocab_collate_func,\n",
    "                                           shuffle=True)\n",
    "\n",
    "mnli_train_slate_dataset = SNLIDataset(mnli_train_slate, words_ft)\n",
    "mnli_train_slate_loader = torch.utils.data.DataLoader(dataset=mnli_train_slate_dataset,\n",
    "                                           batch_size=BATCH_SIZE,\n",
    "                                           collate_fn=vocab_collate_func,\n",
    "                                           shuffle=True)\n",
    "\n",
    "mnli_train_government_dataset = SNLIDataset(mnli_train_government, words_ft)\n",
    "mnli_train_government_loader = torch.utils.data.DataLoader(dataset=mnli_train_government_dataset,\n",
    "                                           batch_size=BATCH_SIZE,\n",
    "                                           collate_fn=vocab_collate_func,\n",
    "                                           shuffle=True)\n",
    "\n",
    "\n",
    "mnli_train_travel_dataset = SNLIDataset(mnli_train_travel, words_ft)\n",
    "mnli_train_travel_loader = torch.utils.data.DataLoader(dataset=mnli_train_travel_dataset,\n",
    "                                           batch_size=BATCH_SIZE,\n",
    "                                           collate_fn=vocab_collate_func,\n",
    "                                           shuffle=True)\n"
   ]
  },
  {
   "cell_type": "code",
   "execution_count": 41,
   "metadata": {
    "collapsed": true
   },
   "outputs": [],
   "source": [
    "mnli_val_telephone = mnli_val.loc[mnli_val.genre=='telephone'].reset_index(drop=True)\n",
    "mnli_val_fiction = mnli_val.loc[mnli_val.genre=='fiction'].reset_index(drop=True)\n",
    "mnli_val_slate = mnli_val.loc[mnli_val.genre=='slate'].reset_index(drop=True)\n",
    "mnli_val_government = mnli_val.loc[mnli_val.genre=='government'].reset_index(drop=True)\n",
    "mnli_val_travel = mnli_val.loc[mnli_val.genre=='travel'].reset_index(drop=True)\n"
   ]
  },
  {
   "cell_type": "code",
   "execution_count": 42,
   "metadata": {
    "collapsed": true
   },
   "outputs": [],
   "source": [
    "mnli_val_telephone_dataset = SNLIDataset(mnli_val_telephone, words_ft)\n",
    "mnli_val_telephone_loader = torch.utils.data.DataLoader(dataset=mnli_val_telephone_dataset,\n",
    "                                           batch_size=BATCH_SIZE,\n",
    "                                           collate_fn=vocab_collate_func,\n",
    "                                           shuffle=True)\n",
    "\n",
    "mnli_val_fiction_dataset = SNLIDataset(mnli_val_fiction, words_ft)\n",
    "mnli_val_fiction_loader = torch.utils.data.DataLoader(dataset=mnli_val_fiction_dataset,\n",
    "                                           batch_size=BATCH_SIZE,\n",
    "                                           collate_fn=vocab_collate_func,\n",
    "                                           shuffle=True)\n",
    "\n",
    "mnli_val_slate_dataset = SNLIDataset(mnli_val_slate, words_ft)\n",
    "mnli_val_slate_loader = torch.utils.data.DataLoader(dataset=mnli_val_slate_dataset,\n",
    "                                           batch_size=BATCH_SIZE,\n",
    "                                           collate_fn=vocab_collate_func,\n",
    "                                           shuffle=True)\n",
    "\n",
    "mnli_val_government_dataset = SNLIDataset(mnli_val_government, words_ft)\n",
    "mnli_val_government_loader = torch.utils.data.DataLoader(dataset=mnli_val_government_dataset,\n",
    "                                           batch_size=BATCH_SIZE,\n",
    "                                           collate_fn=vocab_collate_func,\n",
    "                                           shuffle=True)\n",
    "\n",
    "\n",
    "mnli_val_travel_dataset = SNLIDataset(mnli_val_travel, words_ft)\n",
    "mnli_val_travel_loader = torch.utils.data.DataLoader(dataset=mnli_val_travel_dataset,\n",
    "                                           batch_size=BATCH_SIZE,\n",
    "                                           collate_fn=vocab_collate_func,\n",
    "                                           shuffle=True)\n"
   ]
  },
  {
   "cell_type": "markdown",
   "metadata": {},
   "source": [
    "### GRU Best Model"
   ]
  },
  {
   "cell_type": "code",
   "execution_count": 94,
   "metadata": {},
   "outputs": [],
   "source": [
    "model = Encoder(weights_matrix = torch.from_numpy(loaded_embeddings_ft), hidden_size=50, num_layers=2)\n",
    "criterion = torch.nn.CrossEntropyLoss()\n",
    "model.load_state_dict(torch.load('GRUModel_hidden_50.pth'))\n"
   ]
  },
  {
   "cell_type": "code",
   "execution_count": 91,
   "metadata": {},
   "outputs": [
    {
     "name": "stdout",
     "output_type": "stream",
     "text": [
      "70.6\n",
      "47.46268656716418\n",
      "48.44221105527638\n",
      "43.51297405189621\n",
      "46.35826771653543\n",
      "42.46435845213849\n"
     ]
    }
   ],
   "source": [
    "print(test_model(val_loader, model))\n",
    "\n",
    "print(test_model(mnli_val_telephone_loader, model))\n",
    "print(test_model(mnli_val_fiction_loader, model))\n",
    "print(test_model(mnli_val_slate_loader, model))\n",
    "print(test_model(mnli_val_government_loader, model))\n",
    "print(test_model(mnli_val_travel_loader, model))"
   ]
  },
  {
   "cell_type": "markdown",
   "metadata": {},
   "source": [
    "### CNN Best Model"
   ]
  },
  {
   "cell_type": "code",
   "execution_count": 92,
   "metadata": {},
   "outputs": [],
   "source": [
    "model = CNN(weights_matrix = torch.from_numpy(loaded_embeddings_ft), hidden_size = 100, num_layers=2, num_classes=3)\n",
    "criterion = torch.nn.CrossEntropyLoss()\n",
    "model.load_state_dict(torch.load('CNNModel_hidden_100.pth'))\n"
   ]
  },
  {
   "cell_type": "code",
   "execution_count": 93,
   "metadata": {},
   "outputs": [
    {
     "name": "stdout",
     "output_type": "stream",
     "text": [
      "68.4\n",
      "50.34825870646766\n",
      "49.64824120603015\n",
      "41.71656686626746\n",
      "45.767716535433074\n",
      "47.04684317718941\n"
     ]
    }
   ],
   "source": [
    "print(test_model(val_loader, model))\n",
    "\n",
    "print(test_model(mnli_val_telephone_loader, model))\n",
    "print(test_model(mnli_val_fiction_loader, model))\n",
    "print(test_model(mnli_val_slate_loader, model))\n",
    "print(test_model(mnli_val_government_loader, model))\n",
    "print(test_model(mnli_val_travel_loader, model))"
   ]
  },
  {
   "cell_type": "markdown",
   "metadata": {},
   "source": [
    "### Some Experiment Results (in a un-organizaed manner)"
   ]
  },
  {
   "cell_type": "code",
   "execution_count": 69,
   "metadata": {},
   "outputs": [
    {
     "name": "stdout",
     "output_type": "stream",
     "text": [
      "[60.184, 61.703, 63.501, 64.224, 65.433, 66.19, 66.556, 67.514, 68.076, 68.943, 69.907, 70.269, 71.568, 72.416, 73.21]\n",
      "[59.7, 60.8, 63.8, 62.8, 63.2, 64.3, 63.6, 64.6, 65.7, 65.1, 65.1, 65.2, 64.9, 64.1, 65.5]\n"
     ]
    }
   ],
   "source": [
    "GRU_hidden_100_train_history = train_history\n",
    "GRU_hidden_100_val_history = val_history\n",
    "print(GRU_hidden_100_train_history)\n",
    "print(GRU_hidden_100_val_history)"
   ]
  },
  {
   "cell_type": "code",
   "execution_count": 81,
   "metadata": {},
   "outputs": [
    {
     "name": "stdout",
     "output_type": "stream",
     "text": [
      "[59.58, 61.617, 62.91, 62.951, 64.264, 64.744, 65.705, 66.107, 66.583, 67.387, 67.992, 68.286, 68.812, 69.22, 69.187]\n",
      "[58.4, 60.9, 61.2, 61.1, 62.6, 63.7, 64.4, 63.9, 65.1, 65.5, 65.6, 66.9, 65.4, 65.4, 65.0]\n"
     ]
    }
   ],
   "source": [
    "GRU_hidden_50_train_history = train_history\n",
    "GRU_hidden_50_val_history = val_history\n",
    "print(GRU_hidden_50_train_history)\n",
    "print(GRU_hidden_50_val_history)"
   ]
  },
  {
   "cell_type": "code",
   "execution_count": 91,
   "metadata": {},
   "outputs": [
    {
     "name": "stdout",
     "output_type": "stream",
     "text": [
      "[57.3, 60.0, 62.7, 62.9, 64.0, 62.9, 64.0, 64.5, 62.4, 64.1, 63.2, 63.2, 63.8, 63.9, 62.9]\n",
      "[57.814, 60.638, 64.99, 66.383, 67.673, 68.505, 69.076, 70.442, 71.112, 71.761, 72.92, 73.445, 74.145, 74.548, 75.083]\n"
     ]
    }
   ],
   "source": [
    "CNN_hidden_50_val_acc_history = val_acc_history\n",
    "CNN_hidden_50_train_acc_history = train_acc_history\n",
    "print(CNN_hidden_50_val_acc_history)\n",
    "print(CNN_hidden_50_train_acc_history)"
   ]
  },
  {
   "cell_type": "code",
   "execution_count": 97,
   "metadata": {},
   "outputs": [
    {
     "name": "stdout",
     "output_type": "stream",
     "text": [
      "[60.4, 61.6, 62.8, 64.9, 63.9, 65.4, 64.0, 63.8, 63.0, 63.6, 63.9, 64.4, 64.1, 63.6, 64.3]\n",
      "[61.597, 64.126, 66.718, 68.442, 69.287, 71.991, 73.178, 75.137, 76.365, 77.857, 79.027, 80.187, 81.204, 82.482, 83.153]\n"
     ]
    }
   ],
   "source": [
    "CNN_hidden_100_val_acc_history = val_acc_history\n",
    "CNN_hidden_100_train_acc_history = train_acc_history\n",
    "print(CNN_hidden_100_val_acc_history)\n",
    "print(CNN_hidden_100_train_acc_history)"
   ]
  },
  {
   "cell_type": "code",
   "execution_count": 100,
   "metadata": {},
   "outputs": [
    {
     "name": "stdout",
     "output_type": "stream",
     "text": [
      "[57.7, 58.3, 60.9, 59.2, 60.8, 62.0, 62.0, 60.8, 60.9, 62.5, 61.9, 61.9, 62.1, 61.5, 62.6]\n",
      "[56.857, 59.367, 60.234, 61.37, 62.5, 63.167, 63.551, 62.973, 64.01, 64.523, 64.818, 65.112, 65.35, 65.384, 65.712]\n"
     ]
    }
   ],
   "source": [
    "CNN_hidden_10_val_acc_history = val_acc_history\n",
    "CNN_hidden_10_train_acc_history = train_acc_history\n",
    "print(CNN_hidden_10_val_acc_history)\n",
    "print(CNN_hidden_10_train_acc_history)"
   ]
  },
  {
   "cell_type": "code",
   "execution_count": 108,
   "metadata": {},
   "outputs": [
    {
     "name": "stdout",
     "output_type": "stream",
     "text": [
      "[63.692, 66.407, 68.19, 70.454, 71.61, 75.436, 77.563, 80.051, 81.288, 83.814, 85.877, 87.483, 89.098, 89.716, 90.105]\n",
      "[61.8, 63.0, 64.0, 63.8, 62.6, 64.1, 63.9, 64.4, 62.1, 61.3, 61.6, 60.3, 62.1, 62.1, 59.3]\n"
     ]
    }
   ],
   "source": [
    "CNN_hidden_200_val_acc_history = val_acc_history\n",
    "CNN_hidden_200_train_acc_history = train_acc_history\n",
    "print(CNN_hidden_200_train_acc_history)\n",
    "print(CNN_hidden_200_val_acc_history)"
   ]
  },
  {
   "cell_type": "code",
   "execution_count": 133,
   "metadata": {},
   "outputs": [
    {
     "name": "stdout",
     "output_type": "stream",
     "text": [
      "[61.2, 62.1, 62.3, 64.2, 61.4, 63.1, 63.9, 62.5, 62.5, 62.1, 60.9, 60.6, 59.9, 58.8, 57.6]\n",
      "[62.854, 64.063, 67.806, 70.019, 71.498, 74.844, 76.729, 79.534, 80.979, 82.684, 84.351, 85.66, 87.421, 88.449, 89.331]\n"
     ]
    }
   ],
   "source": [
    "CNN_ker_5_val_acc_history = val_acc_history\n",
    "CNN_ker_5_train_acc_history = train_acc_history\n",
    "print(CNN_ker_5_val_acc_history)\n",
    "print(CNN_ker_5_train_acc_history)"
   ]
  },
  {
   "cell_type": "code",
   "execution_count": 136,
   "metadata": {},
   "outputs": [
    {
     "name": "stdout",
     "output_type": "stream",
     "text": [
      "[59.8, 60.0, 62.4, 62.4, 62.1, 63.1, 63.1, 64.5, 63.8, 63.9, 64.1, 62.9, 63.1, 64.4, 63.0]\n",
      "[60.288, 61.661, 63.408, 64.216, 64.693, 65.247, 65.234, 66.114, 66.451, 66.551, 66.759, 67.056, 67.508, 67.957, 66.948]\n"
     ]
    }
   ],
   "source": [
    "CNN_ker_1_val_acc_history = val_acc_history\n",
    "CNN_ker_1_train_acc_history = train_acc_history\n",
    "print(CNN_ker_1_val_acc_history)\n",
    "print(CNN_ker_1_train_acc_history)"
   ]
  },
  {
   "cell_type": "code",
   "execution_count": 140,
   "metadata": {},
   "outputs": [
    {
     "name": "stdout",
     "output_type": "stream",
     "text": [
      "[59.8, 60.0, 62.4, 62.4, 62.1, 63.1, 63.1, 64.5, 63.8, 63.9, 64.1, 62.9, 63.1, 64.4, 63.0]\n",
      "[60.288, 61.661, 63.408, 64.216, 64.693, 65.247, 65.234, 66.114, 66.451, 66.551, 66.759, 67.056, 67.508, 67.957, 66.948]\n"
     ]
    }
   ],
   "source": [
    "print(CNN_ker_1_val_acc_history)\n",
    "print(CNN_ker_1_train_acc_history)"
   ]
  },
  {
   "cell_type": "markdown",
   "metadata": {
    "collapsed": true
   },
   "source": [
    "## Plots"
   ]
  },
  {
   "cell_type": "code",
   "execution_count": 148,
   "metadata": {},
   "outputs": [
    {
     "data": {
      "image/png": "[encoded data removed]",
      "text/plain": [
       "<matplotlib.figure.Figure at 0x128aecda0>"
      ]
     },
     "metadata": {},
     "output_type": "display_data"
    }
   ],
   "source": [
    "import matplotlib.pyplot as plt\n",
    "\n",
    "plt.title(\"Accuracy Curve (Kernel Size of CNN)\")\n",
    "plt.xlabel(\"Epoch\")\n",
    "plt.ylabel(\"Accuracy\")\n",
    "\n",
    "\n",
    "plt.plot(range(15), CNN_ker_1_train_acc_history, 'o-', color=\"r\",\n",
    "             label=\"ker = 1, Train\")\n",
    "plt.plot(range(15), CNN_ker_1_val_acc_history, 'o-', color=\"b\",\n",
    "             label=\"ker = 1, Val\")\n",
    "plt.plot(range(15), CNN_ker_5_train_acc_history, 'o-', color=\"g\",\n",
    "             label=\"ker = 5, Train\")\n",
    "plt.plot(range(15), CNN_ker_5_val_acc_history, 'o-', color=\"y\",\n",
    "             label=\"ker = 5, Val\")\n",
    "plt.plot(range(15), CNN_hidden_100_train_acc_history, 'o-', color=\"k\",\n",
    "             label=\"ker = 3, Train\")\n",
    "plt.plot(range(15), CNN_hidden_100_val_acc_history, 'o-', color=\"c\",\n",
    "             label=\"ker = 3, Val\")\n",
    "plt.legend(loc=\"best\")\n",
    "\n",
    "plt.show()\n",
    "\n"
   ]
  },
  {
   "cell_type": "code",
   "execution_count": 161,
   "metadata": {},
   "outputs": [
    {
     "data": {
      "image/png": "[encoded data removed]",
      "text/plain": [
       "<matplotlib.figure.Figure at 0x1281f6400>"
      ]
     },
     "metadata": {},
     "output_type": "display_data"
    }
   ],
   "source": [
    "plt.title(\"Accuracy Curve (Size of Hidden Dimension CNN)\")\n",
    "plt.xlabel(\"Epoch\")\n",
    "plt.ylabel(\"Accuracy\")\n",
    "\n",
    "plt.plot(range(15), CNN_hidden_10_train_acc_history, 'o-', color=\"m\",\n",
    "             label=\"hidden = 10, Train\")\n",
    "plt.plot(range(15), CNN_hidden_10_val_acc_history, 'o-', color=\"brown\",\n",
    "             label=\"hidden = 10, Val\")\n",
    "plt.plot(range(15), CNN_hidden_50_train_acc_history, 'o-', color=\"r\",\n",
    "             label=\"hidden = 50, Train\")\n",
    "plt.plot(range(15), CNN_hidden_50_val_acc_history, 'o-', color=\"b\",\n",
    "             label=\"hidden = 50, Val\")\n",
    "plt.plot(range(15), CNN_hidden_200_train_acc_history, 'o-', color=\"g\",\n",
    "             label=\"hidden = 200, Train\")\n",
    "plt.plot(range(15), CNN_hidden_200_val_acc_history, 'o-', color=\"y\",\n",
    "             label=\"hidden = 200, Val\")\n",
    "plt.plot(range(15), CNN_hidden_100_train_acc_history, 'o-', color=\"k\",\n",
    "             label=\"hidden = 100, Train\")\n",
    "plt.plot(range(15), CNN_hidden_100_val_acc_history, 'o-', color=\"c\",\n",
    "             label=\"hidden = 100, Val\")\n",
    "plt.legend(loc=\"best\")\n",
    "\n",
    "plt.show()"
   ]
  },
  {
   "cell_type": "code",
   "execution_count": 46,
   "metadata": {},
   "outputs": [
    {
     "data": {
      "image/png": "[encoded data removed]",
      "text/plain": [
       "<matplotlib.figure.Figure at 0x122478f60>"
      ]
     },
     "metadata": {},
     "output_type": "display_data"
    }
   ],
   "source": [
    "plt.title(\"Accuracy Curve (Size of Hidden Dimension GRU)\")\n",
    "plt.xlabel(\"Epoch\")\n",
    "plt.ylabel(\"Accuracy\")\n",
    "\n",
    "\n",
    "plt.plot(range(15), GRU_hidden_50_train_history, 'o-', color=\"r\",\n",
    "             label=\"hidden = 50, Train\")\n",
    "plt.plot(range(15), GRU_hidden_50_val_history, 'o-', color=\"b\",\n",
    "             label=\"hidden = 50, Val\")\n",
    "plt.plot(range(15), GRU_hidden_10_train_history, 'o-', color=\"g\",\n",
    "             label=\"hidden = 10, Train\")\n",
    "plt.plot(range(15), GRU_hidden_10_val_history, 'o-', color=\"y\",\n",
    "             label=\"hidden = 10, Val\")\n",
    "plt.plot(range(15), GRU_hidden_100_train_history, 'o-', color=\"k\",\n",
    "             label=\"hidden = 100, Train\")\n",
    "plt.plot(range(15), GRU_hidden_100_val_history, 'o-', color=\"c\",\n",
    "             label=\"hidden = 100, Val\")\n",
    "plt.legend(loc=\"best\")\n",
    "\n",
    "plt.show()"
   ]
  },
  {
   "cell_type": "code",
   "execution_count": 3,
   "metadata": {
    "collapsed": true
   },
   "outputs": [],
   "source": [
    "GRU_hidden_10_train_history = [52.026, 58.781, 60.562, 61.654, 62.439, 62.721, 63.378, 63.731, 64.147, 64.269, 64.972, 65.088, 65.396, 65.703, 65.806]\n",
    "GRU_hidden_10_val_history = [51.2, 58.2, 59.5, 61.7, 62.5, 62.5, 62.5, 62.8, 62.6, 62.7, 63.7, 64.4, 64.3, 63.0, 63.6]"
   ]
  },
  {
   "cell_type": "markdown",
   "metadata": {},
   "source": [
    "## Correct & Incorrect Predictions"
   ]
  },
  {
   "cell_type": "code",
   "execution_count": 124,
   "metadata": {
    "collapsed": true
   },
   "outputs": [],
   "source": [
    "val_dataset = SNLIDataset(snli_val, words_ft)\n",
    "val_loader = torch.utils.data.DataLoader(dataset=val_dataset,\n",
    "                                           batch_size=BATCH_SIZE,\n",
    "                                           collate_fn=vocab_collate_func,\n",
    "                                           shuffle=False)\n"
   ]
  },
  {
   "cell_type": "code",
   "execution_count": 133,
   "metadata": {
    "collapsed": true
   },
   "outputs": [],
   "source": [
    "def print_correct_predictions(loader, model):\n",
    "    \"\"\"\n",
    "    Help function that tests the model's performance on a dataset\n",
    "    @param: loader - data loader for the dataset to test against\n",
    "    \"\"\"\n",
    "    correct = 0\n",
    "    total = 0\n",
    "    model.eval()\n",
    "    i = 0\n",
    "    for (sen1, len1, sen2, len2, labels) in loader:\n",
    "        if i > 0: break\n",
    "        i += 1\n",
    "        #data_batch, lengths_batch, label_batch = data, lengths, labels\n",
    "        output = model(sen1, sen2, len1, len2)\n",
    "        #print(output)\n",
    "        outputs = F.softmax(output, dim=1)\n",
    "        #val_loss = criterion(outputs, labels)\n",
    "        predicted = outputs.max(1, keepdim=True)[1]\n",
    "        total += labels.size(0)\n",
    "        for i in range(32):\n",
    "            if predicted[i] == labels.view_as(predicted)[i]:\n",
    "                print('Sentence1: '+ snli_val.loc[i]['sentence1'])\n",
    "                print('Sentence2: '+ snli_val.loc[i]['sentence2'])\n",
    "                print('label: ' + snli_val.loc[i]['label'])\n",
    "                print('Predicted: ' + str(predicted[i]))\n",
    "                print(' ')\n",
    "        #print(predicted)\n",
    "        #print(labels)\n",
    "        correct += predicted.eq(labels.view_as(predicted)).sum().item()\n",
    "    return (100 * correct / total)"
   ]
  },
  {
   "cell_type": "code",
   "execution_count": 131,
   "metadata": {
    "collapsed": true
   },
   "outputs": [],
   "source": [
    "def print_wrong_predictions(loader, model):\n",
    "    \"\"\"\n",
    "    Help function that tests the model's performance on a dataset\n",
    "    @param: loader - data loader for the dataset to test against\n",
    "    \"\"\"\n",
    "    correct = 0\n",
    "    total = 0\n",
    "    model.eval()\n",
    "    i = 0\n",
    "    for (sen1, len1, sen2, len2, labels) in loader:\n",
    "        if i > 0: break\n",
    "        i += 1\n",
    "        #data_batch, lengths_batch, label_batch = data, lengths, labels\n",
    "        output = model(sen1, sen2, len1, len2)\n",
    "        #print(output)\n",
    "        outputs = F.softmax(output, dim=1)\n",
    "        #val_loss = criterion(outputs, labels)\n",
    "        predicted = outputs.max(1, keepdim=True)[1]\n",
    "        total += labels.size(0)\n",
    "        for i in range(32):\n",
    "            if predicted[i] != labels.view_as(predicted)[i]:\n",
    "                print('Sentence1: '+ snli_val.loc[i]['sentence1'])\n",
    "                print('Sentence2: '+ snli_val.loc[i]['sentence2'])\n",
    "                print('label: ' + snli_val.loc[i]['label'])\n",
    "                print('Predicted: ' + str(predicted[i]))\n",
    "                print(' ')\n",
    "        #print(predicted)\n",
    "        #print(labels)\n",
    "        correct += predicted.eq(labels.view_as(predicted)).sum().item()\n",
    "    return (100 * correct / total)"
   ]
  },
  {
   "cell_type": "code",
   "execution_count": 132,
   "metadata": {},
   "outputs": [
    {
     "name": "stdout",
     "output_type": "stream",
     "text": [
      "Sentence1: Three women on a stage , one wearing red shoes , black pants , and a gray shirt is sitting on a prop , another is sitting on the floor , and the third wearing a black shirt and pants is standing , as a gentleman in the back tunes an instrument .\n",
      "Sentence2: There are two women standing on the stage\n",
      "label: contradiction\n",
      "Predicted: tensor([ 0])\n",
      " \n",
      "Sentence1: Man observes a wavelength given off by an electronic device .\n",
      "Sentence2: The man is examining what wavelength is given off by the device .\n",
      "label: entailment\n",
      "Predicted: tensor([ 1])\n",
      " \n",
      "Sentence1: Two people are in a green forest .\n",
      "Sentence2: The forest is not dead .\n",
      "label: entailment\n",
      "Predicted: tensor([ 2])\n",
      " \n",
      "Sentence1: Three people and a white dog are sitting in the sand on a beach .\n",
      "Sentence2: Three dogs and a person are sitting in the snow .\n",
      "label: contradiction\n",
      "Predicted: tensor([ 0])\n",
      " \n",
      "Sentence1: Man in white shirt and blue jeans looking to the side while walking down a busy sidewalk .\n",
      "Sentence2: Man has a blue shirt on .\n",
      "label: contradiction\n",
      "Predicted: tensor([ 0])\n",
      " \n",
      "Sentence1: A group of people dressed in Santa Claus suits are looking towards an audience while a DJ runs a sound board and another person throws green balls into the air .\n",
      "Sentence2: A band plays at a beach party .\n",
      "label: neutral\n",
      "Predicted: tensor([ 2])\n",
      " \n",
      "Sentence1: A red jeep hangs from the edge of a rocky cliff as a girl looks on .\n",
      "Sentence2: The vehicle is red .\n",
      "label: entailment\n",
      "Predicted: tensor([ 1])\n",
      " \n",
      "Sentence1: People walk amongst a traffic jam in a crowded city .\n",
      "Sentence2: The traffic is halted and people are walking between the cars .\n",
      "label: entailment\n",
      "Predicted: tensor([ 2])\n",
      " \n",
      "Sentence1: A live band on a lawn jamming out .\n",
      "Sentence2: A band is practicing new tunes in the garage .\n",
      "label: contradiction\n",
      "Predicted: tensor([ 1])\n",
      " \n",
      "Sentence1: A lone , 2-3 year old blond child in a blue jacket is putting a small black plastic item in his mouth as he kneels on a waiting room couch pointed toward the back while looking at something or someone not in the room .\n",
      "Sentence2: The couch is pointed toward the front .\n",
      "label: contradiction\n",
      "Predicted: tensor([ 0])\n",
      " \n"
     ]
    },
    {
     "data": {
      "text/plain": [
       "68.75"
      ]
     },
     "execution_count": 132,
     "metadata": {},
     "output_type": "execute_result"
    }
   ],
   "source": [
    "print_wrong_predictions(val_loader, model)"
   ]
  },
  {
   "cell_type": "code",
   "execution_count": 134,
   "metadata": {},
   "outputs": [
    {
     "name": "stdout",
     "output_type": "stream",
     "text": [
      "Sentence1: Four people sit on a subway two read books , one looks at a cellphone and is wearing knee high boots .\n",
      "Sentence2: Multiple people are on a subway together , with each of them doing their own thing .\n",
      "label: entailment\n",
      "Predicted: tensor([ 0])\n",
      " \n",
      "Sentence1: bicycles stationed while a group of people socialize .\n",
      "Sentence2: People get together near a stand of bicycles .\n",
      "label: entailment\n",
      "Predicted: tensor([ 0])\n",
      " \n",
      "Sentence1: Man in overalls with two horses .\n",
      "Sentence2: a man in overalls with two horses\n",
      "label: entailment\n",
      "Predicted: tensor([ 0])\n",
      " \n",
      "Sentence1: Two men are listening to music through headphones .\n",
      "Sentence2: Two men listen to music .\n",
      "label: entailment\n",
      "Predicted: tensor([ 0])\n",
      " \n",
      "Sentence1: Two women , one walking her dog the other pushing a stroller .\n",
      "Sentence2: There is a snowstorm .\n",
      "label: contradiction\n",
      "Predicted: tensor([ 2])\n",
      " \n",
      "Sentence1: A group of numbered participants walk down the street together .\n",
      "Sentence2: Participants wait for the beginning of the walkathon .\n",
      "label: neutral\n",
      "Predicted: tensor([ 1])\n",
      " \n",
      "Sentence1: A man wearing glasses is vacuuming an architects model .\n",
      "Sentence2: There is a man vaucuming\n",
      "label: entailment\n",
      "Predicted: tensor([ 0])\n",
      " \n",
      "Sentence1: A large group of people stand outside on a road while people on a higher level look on at them .\n",
      "Sentence2: One group of people are watching what another group does .\n",
      "label: entailment\n",
      "Predicted: tensor([ 0])\n",
      " \n",
      "Sentence1: A little boy watches a Ferris Wheel in motion .\n",
      "Sentence2: A boy is waiting in line for the Ferris Wheel .\n",
      "label: neutral\n",
      "Predicted: tensor([ 1])\n",
      " \n",
      "Sentence1: A man in a dark floral shirt and black jeans walks buy a brightly colored wall painted with a woman with bright green eyes .\n",
      "Sentence2: A man walks past a newly painted mural of a woman .\n",
      "label: entailment\n",
      "Predicted: tensor([ 0])\n",
      " \n",
      "Sentence1: Two men help an injured player on the field .\n",
      "Sentence2: Some men help an injured player on the field .\n",
      "label: entailment\n",
      "Predicted: tensor([ 0])\n",
      " \n",
      "Sentence1: A woman in a light blue jacket is riding a bike .\n",
      "Sentence2: A woman in a jacket riding a bike to work .\n",
      "label: neutral\n",
      "Predicted: tensor([ 1])\n",
      " \n",
      "Sentence1: Two kids on a boat , one with a paddle , and the other on the edge wearing a life vest .\n",
      "Sentence2: A kid is wearing a life vest .\n",
      "label: entailment\n",
      "Predicted: tensor([ 0])\n",
      " \n",
      "Sentence1: A woman is sitting in a street market stand where there are various items for sale , such as fish .\n",
      "Sentence2: The woman is in a street market .\n",
      "label: entailment\n",
      "Predicted: tensor([ 0])\n",
      " \n",
      "Sentence1: A group of people are sitting under umbrellas on the beach .\n",
      "Sentence2: It is a saturday\n",
      "label: neutral\n",
      "Predicted: tensor([ 1])\n",
      " \n",
      "Sentence1: A boy riding on a carnival ride turns around for a photograph .\n",
      "Sentence2: A human riding\n",
      "label: entailment\n",
      "Predicted: tensor([ 0])\n",
      " \n",
      "Sentence1: man grilling fish on barbecue\n",
      "Sentence2: The man likes to eat fish .\n",
      "label: neutral\n",
      "Predicted: tensor([ 1])\n",
      " \n",
      "Sentence1: A chef speaks into a microphone about a mixed salad contained in a bowl with a decorative lid .\n",
      "Sentence2: a chef speaks into a microphone near a bowl\n",
      "label: entailment\n",
      "Predicted: tensor([ 0])\n",
      " \n",
      "Sentence1: Many people are smiling as they gather in a room .\n",
      "Sentence2: People are indoors .\n",
      "label: entailment\n",
      "Predicted: tensor([ 0])\n",
      " \n",
      "Sentence1: Three cheerful ladies sitting at a table doing a yarn work in a room , at the background are similar groups of ladies doing similar work .\n",
      "Sentence2: The ladies are discussing what they are going to do tonight .\n",
      "label: neutral\n",
      "Predicted: tensor([ 1])\n",
      " \n",
      "Sentence1: A firefighter , in full uniform , looks off into the distance .\n",
      "Sentence2: The firefighter is going to put out a fire .\n",
      "label: neutral\n",
      "Predicted: tensor([ 1])\n",
      " \n",
      "Sentence1: A middle-aged man is sitting indian style outside holding a folded paper in his hands .\n",
      "Sentence2: A middle aged man is showing off his origami creation .\n",
      "label: neutral\n",
      "Predicted: tensor([ 1])\n",
      " \n"
     ]
    },
    {
     "data": {
      "text/plain": [
       "68.75"
      ]
     },
     "execution_count": 134,
     "metadata": {},
     "output_type": "execute_result"
    }
   ],
   "source": [
    "print_correct_predictions(val_loader, model)"
   ]
  },
  {
   "cell_type": "code",
   "execution_count": null,
   "metadata": {
    "collapsed": true
   },
   "outputs": [],
   "source": []
  }
 ],
 "metadata": {
  "kernelspec": {
   "display_name": "Python 3",
   "language": "python",
   "name": "python3"
  },
  "language_info": {
   "codemirror_mode": {
    "name": "ipython",
    "version": 3
   },
   "file_extension": ".py",
   "mimetype": "text/x-python",
   "name": "python",
   "nbconvert_exporter": "python",
   "pygments_lexer": "ipython3",
   "version": "3.6.2"
  }
 },
 "nbformat": 4,
 "nbformat_minor": 2
}
